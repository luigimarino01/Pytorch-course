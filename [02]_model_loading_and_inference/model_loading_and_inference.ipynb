{
 "cells": [
  {
   "cell_type": "markdown",
   "id": "52118948",
   "metadata": {},
   "source": [
    "# Model Loading and Inference with PyTorch\n",
    "\n",
    "In this notebook we will:\n",
    "- Load the trained model from `model_creation_and_train`\n",
    "- Perform inference on test data\n",
    "- Visualize predictions\n"
   ]
  },
  {
   "cell_type": "code",
   "execution_count": null,
   "id": "f668b6ae",
   "metadata": {},
   "outputs": [],
   "source": [
    "import torch\n",
    "from torch import nn\n",
    "from torch.utils.data import DataLoader\n",
    "from torchvision import datasets\n",
    "from torchvision.transforms import ToTensor\n",
    "import matplotlib.pyplot as plt"
   ]
  },
  {
   "cell_type": "markdown",
   "id": "fcbf8e82",
   "metadata": {},
   "source": [
    "## Loading the Dataset\n",
    "\n",
    "We use the same FashionMNIST test dataset we used for training."
   ]
  },
  {
   "cell_type": "code",
   "execution_count": null,
   "id": "f20ca2e3",
   "metadata": {},
   "outputs": [],
   "source": [
    "test_data = datasets.FashionMNIST(\n",
    "    root=\"data\",\n",
    "    train=False,\n",
    "    download=True,\n",
    "    transform=ToTensor(),\n",
    ")\n",
    "\n",
    "batch_size = 64\n",
    "test_dataloader = DataLoader(test_data, batch_size=batch_size)"
   ]
  },
  {
   "cell_type": "markdown",
   "id": "83de8437",
   "metadata": {},
   "source": [
    "## Define the Network\n",
    "\n",
    "We must recreate the **same model architecture** as used during training."
   ]
  },
  {
   "cell_type": "code",
   "execution_count": null,
   "id": "404f002a",
   "metadata": {},
   "outputs": [],
   "source": [
    "class NeuralNetwork(nn.Module):\n",
    "    def __init__(self):\n",
    "        super().__init__()\n",
    "        self.flatten = nn.Flatten()\n",
    "        self.linear_relu_stack = nn.Sequential(\n",
    "            nn.Linear(28*28, 512),\n",
    "            nn.ReLU(),\n",
    "            nn.Linear(512, 512),\n",
    "            nn.ReLU(),\n",
    "            nn.Linear(512,10)\n",
    "        )\n",
    "    def forward(self, x):\n",
    "        x = self.flatten(x)\n",
    "        logits = self.linear_relu_stack(x)\n",
    "        return logits\n",
    "\n",
    "device = torch.accelerator.current_accelerator().type if torch.accelerator.is_available() else \"cpu\"\n",
    "model = NeuralNetwork().to(device)\n"
   ]
  },
  {
   "cell_type": "markdown",
   "id": "18b9dd26",
   "metadata": {},
   "source": [
    "## Loading Model Weights\n",
    "\n",
    "We load the trained state dictionary from the previous notebook.\n"
   ]
  },
  {
   "cell_type": "code",
   "execution_count": null,
   "id": "8df46430",
   "metadata": {},
   "outputs": [],
   "source": [
    "model.load_state_dict(torch.load(\"../01_model_creation_and_train/model.pth\"))\n",
    "model.eval()\n",
    "print(\"Model loaded successfully!\")"
   ]
  },
  {
   "cell_type": "markdown",
   "id": "c140affc",
   "metadata": {},
   "source": [
    "## Making Predictions\n",
    "\n",
    "We take one batch of test images and predict their labels.\n"
   ]
  },
  {
   "cell_type": "code",
   "execution_count": null,
   "id": "dd6375e8",
   "metadata": {},
   "outputs": [],
   "source": [
    "images, labels = next(iter(test_dataloader))\n",
    "images, labels = images.to(device), labels.to(device)\n",
    "\n",
    "with torch.no_grad():\n",
    "    outputs = model(images)\n",
    "    predictions = outputs.argmax(dim=1)\n",
    "\n",
    "print(\"Predictions:\", predictions[:10])\n",
    "print(\"True labels:\", labels[:10])"
   ]
  },
  {
   "cell_type": "markdown",
   "id": "1bd915bf",
   "metadata": {},
   "source": [
    "## Visualizing Predictions\n",
    "\n",
    "Display a few test images with predicted labels."
   ]
  },
  {
   "cell_type": "code",
   "execution_count": null,
   "id": "d1b46c05",
   "metadata": {},
   "outputs": [],
   "source": [
    "def show_images(images, labels, preds, n=6):\n",
    "    plt.figure(figsize=(12, 3))\n",
    "    for i in range(n):\n",
    "        plt.subplot(1, n, i+1)\n",
    "        plt.imshow(images[i].cpu().squeeze(), cmap='gray')\n",
    "        plt.title(f\"P: {preds[i].item()}\\nT: {labels[i].item()}\")\n",
    "        plt.axis('off')\n",
    "    plt.show()\n",
    "\n",
    "show_images(images, labels, predictions)"
   ]
  }
 ],
 "metadata": {
  "kernelspec": {
   "display_name": "pytorch",
   "language": "python",
   "name": "python3"
  },
  "language_info": {
   "name": "python",
   "version": "3.10.18"
  }
 },
 "nbformat": 4,
 "nbformat_minor": 5
}
