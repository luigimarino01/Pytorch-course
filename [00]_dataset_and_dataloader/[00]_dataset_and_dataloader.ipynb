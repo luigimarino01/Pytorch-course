{
 "cells": [
  {
   "cell_type": "markdown",
   "id": "9e4fb2a6",
   "metadata": {},
   "source": [
    "## PyTorch Dataset and DataLoader\n",
    "\n",
    "In this notebook we will explore how PyTorch handles data using `Dataset` and `DataLoader`.\n",
    "\n",
    "We’ll cover:\n",
    "- The difference between `Dataset` and `DataLoader`\n",
    "- How to create a custom dataset\n",
    "- How to use DataLoader for batching, shuffling, and multiprocessing\n",
    "- Tips and best practices"
   ]
  },
  {
   "cell_type": "code",
   "execution_count": 14,
   "id": "f2f7e95f",
   "metadata": {},
   "outputs": [],
   "source": [
    "import torch\n",
    "from torch.utils.data import Dataset, DataLoader\n",
    "from torchvision import transforms\n",
    "import numpy as np\n",
    "import pandas as pd\n",
    "from PIL import Image"
   ]
  },
  {
   "cell_type": "markdown",
   "id": "926d8d90",
   "metadata": {},
   "source": [
    "## What is a Dataset?\n",
    "\n",
    "A `Dataset` in PyTorch represents a collection of samples.  \n",
    "You need to implement:\n",
    "- `__len__`: returns the size of the dataset  \n",
    "- `__getitem__`: returns one sample (given an index)\n"
   ]
  },
  {
   "cell_type": "code",
   "execution_count": 15,
   "id": "f5cfcee1",
   "metadata": {},
   "outputs": [
    {
     "name": "stdout",
     "output_type": "stream",
     "text": [
      "Dataset length: 10\n",
      "Sample [3]: tensor(3)\n"
     ]
    }
   ],
   "source": [
    "class SimpleDataset(Dataset):\n",
    "    def __init__(self):\n",
    "        self.data = torch.arange(10)\n",
    "    \n",
    "    def __len__(self):\n",
    "        return len(self.data)\n",
    "    \n",
    "    def __getitem__(self, idx):\n",
    "        return self.data[idx]\n",
    "\n",
    "dataset = SimpleDataset()\n",
    "print(\"Dataset length:\", len(dataset))\n",
    "print(\"Sample [3]:\", dataset[3])\n"
   ]
  },
  {
   "cell_type": "markdown",
   "id": "6295e9f1",
   "metadata": {},
   "source": [
    "## What is a DataLoader?\n",
    "\n",
    "A `DataLoader` provides an easy way to iterate over a `Dataset`:\n",
    "- It supports batching\n",
    "- It can shuffle data\n",
    "- It can use multiple workers to speed up loading\n"
   ]
  },
  {
   "cell_type": "code",
   "execution_count": 16,
   "id": "451dd861",
   "metadata": {},
   "outputs": [
    {
     "name": "stdout",
     "output_type": "stream",
     "text": [
      "tensor([8, 0, 1, 5])\n",
      "tensor([6, 9, 2, 7])\n",
      "tensor([4, 3])\n"
     ]
    }
   ],
   "source": [
    "dataloader = DataLoader(dataset, batch_size=4, shuffle=True)\n",
    "\n",
    "for batch in dataloader:\n",
    "    print(batch)"
   ]
  },
  {
   "cell_type": "markdown",
   "id": "6e9aff3b",
   "metadata": {},
   "source": [
    "## Using a Real Dataset (MNIST Example)\n",
    "\n",
    "PyTorch provides many popular datasets via `torchvision.datasets`.  \n",
    "These datasets are downloaded automatically and can be easily wrapped in a `DataLoader`.\n",
    "\n",
    "Here we’ll use the **MNIST** dataset — a collection of 28x28 grayscale images of handwritten digits (0–9).\n",
    "\n",
    "Each sample in this dataset consists of:\n",
    "- An image (`torch.Tensor` of shape `[1, 28, 28]`)\n",
    "- Its corresponding label (`int`)\n",
    "\n",
    "We’ll also apply some simple transformations to convert the image to a tensor and normalize pixel values.\n"
   ]
  },
  {
   "cell_type": "code",
   "execution_count": 17,
   "id": "dad64dae",
   "metadata": {},
   "outputs": [
    {
     "name": "stdout",
     "output_type": "stream",
     "text": [
      "torch.Size([64, 1, 28, 28]) torch.Size([64])\n"
     ]
    }
   ],
   "source": [
    "from torchvision.datasets import MNIST\n",
    "\n",
    "transform = transforms.Compose([\n",
    "    transforms.ToTensor(),\n",
    "    transforms.Normalize((0.5,), (0.5,))\n",
    "])\n",
    "\n",
    "train_data = MNIST(\n",
    "    root='data', \n",
    "    train=True, \n",
    "    download=True, \n",
    "    transform=transform)\n",
    "\n",
    "train_loader = DataLoader(train_data, batch_size=64, shuffle=True)\n",
    "\n",
    "\n",
    "images, labels = next(iter(train_loader))\n",
    "print(images.shape, labels.shape)"
   ]
  },
  {
   "cell_type": "markdown",
   "id": "247d42de",
   "metadata": {},
   "source": [
    "The shapes confirm:\n",
    "- `images.shape = [64, 1, 28, 28]` → 64 images, 1 channel, 28x28 pixels\n",
    "- `labels.shape = [64]` → 64 corresponding digit labels\n",
    "\n",
    "By iterating over the `train_loader`, we can feed data into a model in batches during training.\n",
    "\n",
    "This approach automatically handles:\n",
    "- Shuffling (so the model doesn’t see the same order every epoch)\n",
    "- Batching (so we process multiple samples efficiently on GPU)\n",
    "- Parallel loading (with `num_workers`)\n"
   ]
  },
  {
   "cell_type": "markdown",
   "id": "3c28cec0",
   "metadata": {},
   "source": [
    "## Creating a Custom Dataset\n",
    "\n",
    "Sometimes you have your **own data**, not from torchvision — for example:\n",
    "- Images stored in folders\n",
    "- Metadata stored in a CSV file\n",
    "- Sensor or tabular data\n",
    "\n",
    "In these cases, you can create your own dataset by subclassing `torch.utils.data.Dataset`.\n",
    "\n",
    "You only need to define:\n",
    "- `__init__`: how your data is initialized (e.g. reading a CSV)\n",
    "- `__len__`: total number of samples\n",
    "- `__getitem__`: how to load and return a sample given an index\n"
   ]
  },
  {
   "cell_type": "code",
   "execution_count": 18,
   "id": "d7c0962f",
   "metadata": {},
   "outputs": [],
   "source": [
    "class CustomImageDataset(Dataset):\n",
    "    def __init__(self, csv_file, img_dir, transform=None):\n",
    "        self.data = pd.read_csv(csv_file)\n",
    "        self.img_dir = img_dir\n",
    "        self.transform = transform\n",
    "    \n",
    "    def __len__(self):\n",
    "        return len(self.data)\n",
    "    \n",
    "    def __getitem__(self, idx):\n",
    "        img_path = f\"{self.img_dir}/{self.data.iloc[idx, 0]}\"\n",
    "        image = Image.open(img_path)\n",
    "        label = self.data.iloc[idx, 1]\n",
    "        if self.transform:\n",
    "            image = self.transform(image)\n",
    "        return image, label\n"
   ]
  },
  {
   "cell_type": "code",
   "execution_count": 19,
   "id": "13fd7902",
   "metadata": {},
   "outputs": [
    {
     "data": {
      "image/png": "[encoded data removed]",
      "text/plain": [
       "<Figure size 1000x300 with 6 Axes>"
      ]
     },
     "metadata": {},
     "output_type": "display_data"
    }
   ],
   "source": [
    "import matplotlib.pyplot as plt\n",
    "\n",
    "def show_images(images, labels, n=6):\n",
    "    plt.figure(figsize=(10, 3))\n",
    "    for i in range(n):\n",
    "        plt.subplot(1, n, i+1)\n",
    "        plt.imshow(images[i].squeeze(), cmap='gray')\n",
    "        plt.title(f\"Label: {labels[i].item()}\")\n",
    "        plt.axis('off')\n",
    "    plt.show()\n",
    "\n",
    "show_images(images, labels)"
   ]
  }
 ],
 "metadata": {
  "kernelspec": {
   "display_name": "pytorch",
   "language": "python",
   "name": "python3"
  },
  "language_info": {
   "codemirror_mode": {
    "name": "ipython",
    "version": 3
   },
   "file_extension": ".py",
   "mimetype": "text/x-python",
   "name": "python",
   "nbconvert_exporter": "python",
   "pygments_lexer": "ipython3",
   "version": "3.10.18"
  }
 },
 "nbformat": 4,
 "nbformat_minor": 5
}
